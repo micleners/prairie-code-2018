{
 "cells": [
  {
   "cell_type": "markdown",
   "metadata": {},
   "source": [
    "# I Do Not Care About Security and Neither Should You by Joel Lord"
   ]
  },
  {
   "cell_type": "markdown",
   "metadata": {},
   "source": [
    "Basic auth requirements:\n",
    "- User login screen\n",
    "- User sign up screen\n",
    "- Lost password screen\n",
    "\n",
    "Lots of startup - how to make it easier?"
   ]
  },
  {
   "cell_type": "markdown",
   "metadata": {},
   "source": [
    "### Jeel Lord\n",
    "NomadJS user group - open to have presentations!\n",
    "\n",
    "@joel__lord\n",
    "\n",
    "https://github.com/joellord?utf8=%E2%9C%93&tab=repositories&q=&type=&language=\n",
    "\n",
    "https://github.com/joellord/secure-spa-auth0\n",
    "\n",
    "http://javascripteverything.com/landing/idontcare.php\n",
    "\n",
    "http://javascripteverything.com/landing/hackingjwt.php\n",
    "\n",
    "http://ezurl.to/idontcare"
   ]
  },
  {
   "cell_type": "markdown",
   "metadata": {},
   "source": [
    "Works at RedHat as a \"developer advocate\"\n",
    "- travels a lot\n",
    "- writes from home\n"
   ]
  },
  {
   "cell_type": "markdown",
   "metadata": {},
   "source": [
    "## Analogy For Auth\n",
    "- Purchasing pizza\n",
    "- Using card to purchase\n",
    "- Using PIN to authenticate\n",
    "\n",
    "Real world:\n",
    "- try to access API\n",
    "- get auth token from authentication provider\n",
    "- you provide token to API\n",
    "- API validates your token thru authentication provider"
   ]
  },
  {
   "cell_type": "markdown",
   "metadata": {},
   "source": [
    "## Changes in auth:\n",
    "We've shifted authentication processes from original database validation and sending a cookie. This is because:\n",
    "- Different systems that need to interact with each other\n",
    "- Tightly coupled codebases - lack of reusability of auth code\n",
    "- Sharing credentials to connect to a 3rd party API\n",
    "- Users have way too many accounts which leads to password reuse and lower conversion rates"
   ]
  },
  {
   "cell_type": "markdown",
   "metadata": {},
   "source": [
    "## OAUTH (Open Authorization):\n",
    "- protocol with an \"official standard\" but everyone uses it in a different way"
   ]
  },
  {
   "cell_type": "markdown",
   "metadata": {},
   "source": [
    "## Tokens 101:\n",
    "- Access tokens:\n",
    "    - Givess access to a resource\n",
    "    - Access to an API\n",
    "    - Short lived\n",
    "    - Like a hotel key. Gives you access to a certain place (or places) for a period of time. Then you lose \n",
    "- Refresh tokens:\n",
    "    - Enables you to get a new access token\n",
    "    - Longer lived\n",
    "    - Can be revoked at any point (no more access tokens)\n",
    "    - How you give access to certain applications with your github, google, facebook, etc"
   ]
  },
  {
   "cell_type": "markdown",
   "metadata": {},
   "source": [
    "## Token Types:\n",
    "- WS Federated\n",
    "- SAML\n",
    "- Custom\n",
    "- JWT"
   ]
  },
  {
   "cell_type": "markdown",
   "metadata": {},
   "source": [
    "JWT - all base 64 encoded string\n",
    "- Header: What type it is and what hash used\n",
    "- Payload: Gives claims about the user. Some are reserved claims and used for certain things\n",
    "- Signature: Hashed security shared between the server and the API"
   ]
  },
  {
   "cell_type": "markdown",
   "metadata": {},
   "source": [
    "## Authorization code\n",
    "- Web app connected to a server\n",
    "- Web app tries to connect to 3rd parter API\n",
    "- Need a way to connect to 3rd party\n",
    "- Checks if user is authenticated, redirects user to the page to authenticate, then redirects back with authorization code\n",
    "- Authorization code is back on your server, this server can ask the authorization server for an access token and refresh token\n",
    "- This token can be used to the 3rd party API\n",
    "    \n",
    "**Important**: Browser ner haves access to the authorization information"
   ]
  },
  {
   "cell_type": "markdown",
   "metadata": {},
   "source": [
    "## Implicit Grant\n",
    "(not very recommended)\n",
    "- validate if user is authentication, if not send to authorization server\n",
    "- validates the user\n",
    "- sends back access token directly to user\n",
    "- API will validate that you have access\n",
    "\n",
    "**Dangerous**: Acess token directly available in browser"
   ]
  },
  {
   "cell_type": "markdown",
   "metadata": {},
   "source": [
    "## Auth Server and API Code Demo\n",
    "- Auth server in express\n",
    "- Body parser middleware\n",
    "- jwt jibrary to decouple token\n",
    "-"
   ]
  },
  {
   "cell_type": "markdown",
   "metadata": {},
   "source": [
    "## API\n",
    "- express\n",
    "- bodyparser\n",
    "- randopeep\n",
    "- express-jwt"
   ]
  },
  {
   "cell_type": "markdown",
   "metadata": {},
   "source": [
    "## Authorization vs Authentication:\n",
    "- Authentications "
   ]
  },
  {
   "cell_type": "markdown",
   "metadata": {},
   "source": [
    "# Open ID Connect\n",
    "- Built on top of OAuth 2.0\n",
    "- OpenID Connect is to OpenId as what JS is to Java\n",
    "- Provides identity tokens in JWT Format\n",
    "- ID token has lots of information about the user from whatever service\n",
    "\n",
    "\"This application wants acceess to...\""
   ]
  },
  {
   "cell_type": "markdown",
   "metadata": {},
   "source": [
    "Question:\n",
    "- Access code vs access token with an auth server"
   ]
  },
  {
   "cell_type": "markdown",
   "metadata": {},
   "source": [
    "### You need to make sure to check the signiture and have strong and secret secret keys"
   ]
  },
  {
   "cell_type": "markdown",
   "metadata": {},
   "source": [
    "- Simply using JWTs doesn't make your web server save\n",
    "- Try to use libraries that have strong JWT uses\n",
    "- Use RS256 instead of SHA256 for signature\n",
    "- Use trusted third party services\n",
    "    - Auth0 and Okta\n",
    "    - Google, facebook, twitter, etc"
   ]
  },
  {
   "cell_type": "code",
   "execution_count": null,
   "metadata": {},
   "outputs": [],
   "source": []
  }
 ],
 "metadata": {
  "kernelspec": {
   "display_name": "Python 3",
   "language": "python",
   "name": "python3"
  },
  "language_info": {
   "codemirror_mode": {
    "name": "ipython",
    "version": 3
   },
   "file_extension": ".py",
   "mimetype": "text/x-python",
   "name": "python",
   "nbconvert_exporter": "python",
   "pygments_lexer": "ipython3",
   "version": "3.7.1"
  }
 },
 "nbformat": 4,
 "nbformat_minor": 2
}
