{
 "cells": [
  {
   "cell_type": "markdown",
   "metadata": {},
   "source": [
    "# TDD with Jeremy Suing"
   ]
  },
  {
   "cell_type": "markdown",
   "metadata": {},
   "source": [
    "## Works at Nebraska University\n",
    "- Works at Design Studio and Senior Design\n",
    "- Transitioned to Agile"
   ]
  },
  {
   "cell_type": "markdown",
   "metadata": {},
   "source": [
    "## Resources:\n",
    "- Kent Beck book on TDD\n",
    "- TDD A practical guide\n",
    "\n",
    "### Slogan:\n",
    "All Code is Guilty Until Proven Innocent"
   ]
  },
  {
   "cell_type": "markdown",
   "metadata": {},
   "source": [
    "# Inversion of Control by Adam Barney\n",
    "- adam@adambarney.com\n",
    "- @cabarney"
   ]
  },
  {
   "cell_type": "markdown",
   "metadata": {},
   "source": [
    "### Three things that mean the same thing:\n",
    "- Dependency Inversion (principle)\n",
    "- Inversion of Control (pattern)\n",
    "- Dependency Injection (implementation)"
   ]
  },
  {
   "cell_type": "markdown",
   "metadata": {},
   "source": [
    "## Dependency Inversion Principle\n",
    "- Anything that your code depends on, such that if it's gone, your code will break\n",
    "    - Any concrete classes\n",
    "    - Frameworks\n",
    "    - 3rd party libraries\n",
    "    - System resources, configurations, etc\n",
    "- Uncle Bob may it official: \n",
    "    - High Level modules should not depend on low level modules. Both should depend on abstraction. \n",
    "    - Abstractions should not depend on details. Details should depend on abstractions.\n",
    "- High level implements an interface of low-level abstraction. Low level implementations also implement interfaces.\n",
    "- **Would you solder a lamp directly to the electrical wiring in a wall**\n",
    "    - Plug is in interface\n",
    "    - Lamps can plug into the interface, it can use the power\n",
    "    - Energy suppliers can supply to that interface: energy company, solar panels, etc"
   ]
  },
  {
   "cell_type": "markdown",
   "metadata": {},
   "source": [
    "## Inversion of Control Pattern\n",
    "- Interface inversion\n",
    "    - Non-inverted: the low level components own the interface\n",
    "    - Inverted: the higher level application owns the interface\n",
    "- Flow inversion\n",
    "    - Procedural type approach: \n",
    "        - comand line interface where you input number 1, nunmber 2 and get a number out\n",
    "        - input, get output\n",
    "        - the program controls the flow\n",
    "    - Event driven:\n",
    "        - gui where you enter number in dialogue boxes\n",
    "        - same with input & output\n",
    "        - user has the control to click \"add\"\n",
    "- Creation inversion\n",
    "    - Classes should only do one thing\n",
    "    - Passing into the constructor rather than creating a new object is the inversion"
   ]
  },
  {
   "cell_type": "markdown",
   "metadata": {},
   "source": [
    "### Types of Creation Inversion:\n",
    "- Factory Pattern\n",
    "```java\n",
    "public ClassA()\n",
    "{\n",
    "    Dependency = Factory.CreateClassB();\n",
    "}\n",
    "```\n",
    "- Service Locator\n",
    "```\n",
    "public ClassA()\n",
    "{\n",
    "    Dependency = ServiceLocator.Locate<ClassB>();\n",
    "}\n",
    "```\n",
    "- Dependency Injection\n",
    "```\n",
    "public ClassA(ClassB)\n",
    "{\n",
    "    Dependency = ClassB;\n",
    "}\n",
    "```"
   ]
  },
  {
   "cell_type": "markdown",
   "metadata": {},
   "source": [
    "### Dependency Injection:\n",
    "- Contructor Injection\n",
    "- Setter Injection\n",
    "- Interface Injection"
   ]
  },
  {
   "cell_type": "markdown",
   "metadata": {},
   "source": [
    "### Using a framework\n",
    "- Can use an ioc framework with things like `Injector()`\n",
    "- Then you run a `Register` command on that injector to register your possible implementation\n",
    "- Then you can `Register` the user of those."
   ]
  },
  {
   "cell_type": "markdown",
   "metadata": {},
   "source": [
    "## Affirmation:\n",
    "I asked about having a public class with public interface being the \"unit\" tested or trying to test private methods. His response:\n",
    "- If you are having that discussion, the class is probably trying to do to much. Break up the class into smaller classes so you can test them individually\n",
    "- If you can't, write enough tests to catch all of the private methods\n",
    "- If you can't do that and still want to test those methods, make them internal\n",
    "\n",
    "Someone mentioned afterwards: If you test the fine grain implementation of a class, you are restricting and limiting yourself in the future. It shouldn't matter how the private methods are organized and how they are behaving as long as the larger class level is appropriate"
   ]
  }
 ],
 "metadata": {
  "kernelspec": {
   "display_name": "Python 3",
   "language": "python",
   "name": "python3"
  },
  "language_info": {
   "codemirror_mode": {
    "name": "ipython",
    "version": 3
   },
   "file_extension": ".py",
   "mimetype": "text/x-python",
   "name": "python",
   "nbconvert_exporter": "python",
   "pygments_lexer": "ipython3",
   "version": "3.7.1"
  }
 },
 "nbformat": 4,
 "nbformat_minor": 2
}
