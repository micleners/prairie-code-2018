{
 "cells": [
  {
   "cell_type": "markdown",
   "metadata": {},
   "source": [
    "# SQL vs Document Databases with Kevin Grossnicklaus"
   ]
  },
  {
   "cell_type": "markdown",
   "metadata": {},
   "source": [
    "## Overview\n",
    "### SQL Servers\n",
    "- SQL servers have databases\n",
    "- Relational databases are normalized\n",
    "- Relationships help decrease the size of database\n",
    "\n",
    "### Document Database\n",
    "- Document databases replicate the column names over and over again in each object\n",
    "- Object in memory -> storage in database\n",
    "- How do we deal with relationships?\n",
    "    - If you have a bunch of objects with a field, example: posts with author\n",
    "    - If the author's information updates, how do the posts related author get updated?\n",
    "- They don't enforce anything, you can put whatever you want in there\n",
    "- Can be very quick\n",
    "    - You can store your entire database as a single nested object - quick to read and quick to write\n",
    "- Need to index on certain columns in order to set it up to be quick on search, filters and sorts"
   ]
  },
  {
   "cell_type": "markdown",
   "metadata": {},
   "source": [
    "## Compared Entity Framework to MongoDB project\n",
    "- Entity framework has Linq that's converted into SQL to make calls, DB context\n",
    "- With Document database somewhat similar, just get the objects\n",
    "- With appropriate frameworks, can use LINQ the same way you'd use\n",
    "- If make a change to data models, may mess up serialization. Must run script to change data\n",
    "- Managing a Document storage database is different that managing an SQL framework"
   ]
  },
  {
   "cell_type": "markdown",
   "metadata": {},
   "source": [
    "# Deploying onto Github Pages by Mike Cole\n",
    "@colemike\n",
    "\n",
    "cole-consulting.net"
   ]
  },
  {
   "cell_type": "markdown",
   "metadata": {},
   "source": [
    "## Overview:\n",
    "- Github pages is a static site generator\n",
    "- Jekyll running in safe mode\n",
    "- Hosted on github for free in a repository\n",
    "- Get a github.io for free, supports custom domains, too"
   ]
  },
  {
   "cell_type": "markdown",
   "metadata": {},
   "source": [
    "### Jekyll\n",
    "- \"A simple, blog-aware, static site generator\"\n",
    "- Contains SASS out of the box\n",
    "- Has plugin libraries - disallows some custom plugins\n",
    "- Can use Gulp to build as a workaround for not allowing some custom plugins"
   ]
  },
  {
   "cell_type": "markdown",
   "metadata": {},
   "source": [
    "### Starts with:\n",
    "    - Config file: `_config.yml`\n",
    "    - Front Matter: put at the top of all your Jekyll files\n",
    "    - Layouts and includes to inject code\n",
    "    - Has DNS for new "
   ]
  },
  {
   "cell_type": "markdown",
   "metadata": {},
   "source": [
    "### Third Party Tools:\n",
    "- Simple forms:\n",
    "    - Disqus\n",
    "    - Formspree\n",
    "    - Snipcart\n",
    "    - JavaScript\n",
    "    - Rest APIs\n",
    "\n",
    "### Alternatives:\n",
    "- CloudCannon\n",
    "- Netlify\n",
    "\n",
    "### Checkout Examples:\n",
    "- Mikecole/mikecole.github.io\n",
    "- cole-consulting/cole-consulting.github.io\n",
    "- up-for-grabs/up-for-grabs.net\n",
    "- Search for `*.github.io`\n",
    "- https://import.jekyllrb.com/docs/wordpress/\n",
    "\n",
    "### Alternatives:\n",
    "- Middleman\n",
    "- Hugo\n",
    "- Hexo\n",
    "- Pelican\n",
    "- Metalsmith\n",
    "\n",
    "### Sites:\n",
    "https://github-pages-demo.info\n",
    "github.com/github-pages-demo"
   ]
  }
 ],
 "metadata": {
  "kernelspec": {
   "display_name": "Python 3",
   "language": "python",
   "name": "python3"
  },
  "language_info": {
   "codemirror_mode": {
    "name": "ipython",
    "version": 3
   },
   "file_extension": ".py",
   "mimetype": "text/x-python",
   "name": "python",
   "nbconvert_exporter": "python",
   "pygments_lexer": "ipython3",
   "version": "3.7.1"
  }
 },
 "nbformat": 4,
 "nbformat_minor": 2
}
