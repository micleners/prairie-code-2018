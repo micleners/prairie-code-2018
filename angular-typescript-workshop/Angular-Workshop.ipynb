{
 "cells": [
  {
   "cell_type": "markdown",
   "metadata": {},
   "source": [
    "# Angular and TypeScript\n",
    "## Kevin Grossnicklaus\n",
    "\n",
    "### Contact:\n",
    "- kvgros@architectnow.net\n",
    "- @kvgros\n",
    "- architectnow.net\n",
    "- @architectnow"
   ]
  },
  {
   "cell_type": "markdown",
   "metadata": {},
   "source": [
    "General Notes:\n",
    "- Focuses on plumbing of Angular vs UI development\n",
    "- Prefers VS Code over Visual Studio\n",
    "- Uses WebStorm, too\n",
    "- Also uses Rider for C#, .Net Core, Entity Framework stuff\n",
    "- Prefers NGINX over IIS"
   ]
  },
  {
   "cell_type": "markdown",
   "metadata": {},
   "source": [
    "TypeScript Basics:\n",
    "- You can't change the types of a variable\n",
    "- Union types:\n",
    "```javascript\n",
    "var unionType: string | null;\n",
    "type Role = \"Admin\" | \"User\" | \"ReadOnly\";\n",
    "var observer: Role = \"Observer\"; // not allowed\n",
    "var admin: Role = \"Admin\"; // will work \n",
    "```\n",
    "- Overload functions by stacking (not recomended)\n",
    "- Dependancy injections via interfaces:\n",
    "```\n",
    "function printLabel(labeledObj: { label: string}) {\n",
    "    console.log(labelledObj.label);\n",
    "}\n",
    "\n",
    "let myObj = (size: 10, label: \"Size 10 Object\"} l\n",
    "printLabel(myObj)\n",
    "\n",
    "//alternative:\n",
    "interface Iprintable {\n",
    "    label: string;\n",
    "}\n",
    "\n",
    "function printLabelWithInterface(labelledObj: IPrintable) {\n",
    "    console.log(labelledObj.label);\n",
    "}\n",
    "\n",
    "printLabelWithInterface(myObj);\n",
    "```\n",
    "- If you extend a class, you must make a call to `super()`\n",
    "- You can extend a single interface but you can implement as many interfaces as you want"
   ]
  },
  {
   "cell_type": "markdown",
   "metadata": {},
   "source": [
    "### Discussion on WebPack\n",
    "- Bundles all your files into one\n",
    "- Can run via commandline\n",
    "- Can also run view config file\n",
    "- Comes baked into Angular. Need to eject in order to edit files"
   ]
  },
  {
   "cell_type": "markdown",
   "metadata": {},
   "source": [
    "### Debugging locally in chrome 🔥"
   ]
  },
  {
   "cell_type": "markdown",
   "metadata": {},
   "source": [
    "### In his opinion strong angular developers know:\n",
    "- The quickest and easiest ways to build components for an application\n",
    "- How to Isolate functionality\n",
    "- Data management across components"
   ]
  },
  {
   "cell_type": "markdown",
   "metadata": {},
   "source": [
    "- themeforest.com\n",
    "- algolio\n",
    "- comsic js\n",
    "- formstack\n",
    "- ably (or pusher)\n",
    "- browserstack\n",
    "\n",
    "Using NestJS for the backend - on top of express\n",
    "rangle.io angular book"
   ]
  }
 ],
 "metadata": {
  "kernelspec": {
   "display_name": "Python 3",
   "language": "python",
   "name": "python3"
  },
  "language_info": {
   "codemirror_mode": {
    "name": "ipython",
    "version": 3
   },
   "file_extension": ".py",
   "mimetype": "text/x-python",
   "name": "python",
   "nbconvert_exporter": "python",
   "pygments_lexer": "ipython3",
   "version": "3.7.1"
  }
 },
 "nbformat": 4,
 "nbformat_minor": 2
}
