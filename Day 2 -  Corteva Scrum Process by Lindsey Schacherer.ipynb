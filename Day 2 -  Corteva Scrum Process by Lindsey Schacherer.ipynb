{
 "cells": [
  {
   "cell_type": "markdown",
   "metadata": {},
   "source": [
    "# Where Did these Requirements Come From by Lindsey Schacherer"
   ]
  },
  {
   "cell_type": "markdown",
   "metadata": {},
   "source": [
    "## About\n",
    "- From Corteva\n",
    "- Scrum team:\n",
    "    - Dev Team:\n",
    "    - Scrum Team:\n",
    "    - Outer: business sponser, tech lead"
   ]
  },
  {
   "cell_type": "markdown",
   "metadata": {},
   "source": [
    "## DSI Software Engineering Project Framework\n",
    "- Definition of project, portfolio prioritization, analysis and architecture\n",
    "- Technical Reviews\n",
    "    - Enterprise Architect\n",
    "    - Data Governence\n",
    "    - Application Architect\n",
    "- Scrum and build process"
   ]
  },
  {
   "cell_type": "markdown",
   "metadata": {},
   "source": [
    "## Product Vision is Critical\n",
    "- Agreement between development team and business: this is what we're going to do\n",
    "- Measurement of sucess"
   ]
  },
  {
   "cell_type": "markdown",
   "metadata": {},
   "source": [
    "## Scrum Process:\n",
    "- Process backlog, continual review\n",
    "- 3 Amigos in backlog refining\n",
    "- Bring items into sprint planning\n",
    "- Development/Testing iteration\n",
    "- User acceptance testing (Who does)\n",
    "- Sprint review\n",
    "- Sprint retrospective\n",
    "\n",
    "### During These Cycles\n",
    "- Daily standups with teams\n",
    "- Monthly check in with business sponsor and portfolio lead"
   ]
  },
  {
   "cell_type": "markdown",
   "metadata": {},
   "source": [
    "## Building a backlog:\n",
    "- Researching (gather information)\n",
    "- Write stories (working with product owner)\n",
    "- Review with architect\n",
    "- Pointing with team\n",
    "- Grooming\n",
    "- Prioritize"
   ]
  },
  {
   "cell_type": "markdown",
   "metadata": {},
   "source": [
    "## User Comes First\n",
    "- Conversations are keys (individual users, groups, job shaddowing)\n",
    "- Creating personas\n",
    "- Whiteboarding/Process maps\n",
    "- Face to face conversations\n",
    "    - Individual interviews (outside of their environment)\n",
    "    - Contextual interviews (inside their environment)\n",
    "    - It means a lot to people to take the time to visit them in their space"
   ]
  },
  {
   "cell_type": "markdown",
   "metadata": {},
   "source": [
    "## Questions:\n",
    "- How separate PO? What is Lindsey's role here? (Business Analyst)\n",
    "- How often 3 amigos? Who is involved?\n",
    "- Who does User Acceptance Testing?\n",
    "- How do you deal with non-story work? (e.g. architectural stories, database stuff, creating a helper to make developer life easier, deployment)"
   ]
  }
 ],
 "metadata": {
  "kernelspec": {
   "display_name": "Python 3",
   "language": "python",
   "name": "python3"
  },
  "language_info": {
   "codemirror_mode": {
    "name": "ipython",
    "version": 3
   },
   "file_extension": ".py",
   "mimetype": "text/x-python",
   "name": "python",
   "nbconvert_exporter": "python",
   "pygments_lexer": "ipython3",
   "version": "3.7.1"
  }
 },
 "nbformat": 4,
 "nbformat_minor": 2
}
